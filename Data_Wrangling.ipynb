{
  "nbformat": 4,
  "nbformat_minor": 0,
  "metadata": {
    "colab": {
      "provenance": []
    },
    "kernelspec": {
      "name": "python3",
      "display_name": "Python 3"
    },
    "language_info": {
      "name": "python"
    }
  },
  "cells": [
    {
      "cell_type": "markdown",
      "source": [
        "**Data Wrangling with the Titanic Dataset using Seaborn**\n",
        "\n"
      ],
      "metadata": {
        "id": "9mlngbbWV3w3"
      }
    },
    {
      "cell_type": "markdown",
      "source": [
        "**Introduction:**\n",
        "\n",
        "The Titanic dataset is one of the most popular datasets used for learning data analysis and machine learning. It contains information about the passengers aboard the Titanic, including whether they survived or not. In this project, we will perform data wrangling (cleaning, transforming, and organizing data) on the Titanic dataset using Python's seaborn and pandas libraries. By the end of this project, you will have a clean and structured dataset ready for analysis or modeling."
      ],
      "metadata": {
        "id": "WVJPeQAqWErW"
      }
    },
    {
      "cell_type": "markdown",
      "source": [
        "**Step 1: Import Libraries**\n",
        "\n",
        "We start by importing the necessary libraries."
      ],
      "metadata": {
        "id": "WiXVh-h1WKoW"
      }
    },
    {
      "cell_type": "code",
      "execution_count": 1,
      "metadata": {
        "id": "ZlQpxAitV3Ck"
      },
      "outputs": [],
      "source": [
        "import seaborn as sns\n",
        "import pandas as pd\n",
        "import numpy as np"
      ]
    },
    {
      "cell_type": "markdown",
      "source": [
        "**Notion:**\n",
        "\n",
        "\n",
        "*   seaborn is used for visualization and comes with built-in datasets like  \n",
        "    Titanic.\n",
        "*   pandas is used for data manipulation and analysis.\n",
        "*   numpy is used for numerical operations.\n",
        "\n"
      ],
      "metadata": {
        "id": "bdx7IWcMWRV-"
      }
    },
    {
      "cell_type": "markdown",
      "source": [
        "**Step 2: Load the Dataset**\n",
        "\n",
        "Load the Titanic dataset from Seaborn."
      ],
      "metadata": {
        "id": "TIwpiy5EW1vd"
      }
    },
    {
      "cell_type": "code",
      "source": [
        "# Load the Titanic dataset\n",
        "titanic = sns.load_dataset('titanic')\n",
        "\n",
        "# Display the first 5 rows\n",
        "print(titanic.head())"
      ],
      "metadata": {
        "colab": {
          "base_uri": "https://localhost:8080/"
        },
        "id": "rHDyqdFkWjwh",
        "outputId": "135743b7-db54-4f35-b247-1cce69aaa62c"
      },
      "execution_count": 2,
      "outputs": [
        {
          "output_type": "stream",
          "name": "stdout",
          "text": [
            "   survived  pclass     sex   age  sibsp  parch     fare embarked  class  \\\n",
            "0         0       3    male  22.0      1      0   7.2500        S  Third   \n",
            "1         1       1  female  38.0      1      0  71.2833        C  First   \n",
            "2         1       3  female  26.0      0      0   7.9250        S  Third   \n",
            "3         1       1  female  35.0      1      0  53.1000        S  First   \n",
            "4         0       3    male  35.0      0      0   8.0500        S  Third   \n",
            "\n",
            "     who  adult_male deck  embark_town alive  alone  \n",
            "0    man        True  NaN  Southampton    no  False  \n",
            "1  woman       False    C    Cherbourg   yes  False  \n",
            "2  woman       False  NaN  Southampton   yes   True  \n",
            "3  woman       False    C  Southampton   yes  False  \n",
            "4    man        True  NaN  Southampton    no   True  \n"
          ]
        }
      ]
    },
    {
      "cell_type": "markdown",
      "source": [
        "**Notion:**\n",
        "\n",
        "* The load_dataset() function loads the Titanic dataset directly from Seaborn.\n",
        "\n",
        "* head() displays the first 5 rows to get a quick overview of the data."
      ],
      "metadata": {
        "id": "6dmblqvHXFbj"
      }
    },
    {
      "cell_type": "markdown",
      "source": [
        "**Step 3: Explore the Dataset**\n",
        "\n",
        "Before wrangling, let's understand the dataset."
      ],
      "metadata": {
        "id": "bwIHDxzOcqc6"
      }
    },
    {
      "cell_type": "code",
      "source": [
        "# Check dataset info\n",
        "print(titanic.info())\n",
        "\n",
        "# Check for missing values\n",
        "print(titanic.isnull().sum())\n",
        "\n",
        "# Basic statistics\n",
        "print(titanic.describe())"
      ],
      "metadata": {
        "colab": {
          "base_uri": "https://localhost:8080/"
        },
        "id": "PstwicycXIZf",
        "outputId": "64c7b808-e866-43ed-efe4-1380b72af723"
      },
      "execution_count": 3,
      "outputs": [
        {
          "output_type": "stream",
          "name": "stdout",
          "text": [
            "<class 'pandas.core.frame.DataFrame'>\n",
            "RangeIndex: 891 entries, 0 to 890\n",
            "Data columns (total 15 columns):\n",
            " #   Column       Non-Null Count  Dtype   \n",
            "---  ------       --------------  -----   \n",
            " 0   survived     891 non-null    int64   \n",
            " 1   pclass       891 non-null    int64   \n",
            " 2   sex          891 non-null    object  \n",
            " 3   age          714 non-null    float64 \n",
            " 4   sibsp        891 non-null    int64   \n",
            " 5   parch        891 non-null    int64   \n",
            " 6   fare         891 non-null    float64 \n",
            " 7   embarked     889 non-null    object  \n",
            " 8   class        891 non-null    category\n",
            " 9   who          891 non-null    object  \n",
            " 10  adult_male   891 non-null    bool    \n",
            " 11  deck         203 non-null    category\n",
            " 12  embark_town  889 non-null    object  \n",
            " 13  alive        891 non-null    object  \n",
            " 14  alone        891 non-null    bool    \n",
            "dtypes: bool(2), category(2), float64(2), int64(4), object(5)\n",
            "memory usage: 80.7+ KB\n",
            "None\n",
            "survived         0\n",
            "pclass           0\n",
            "sex              0\n",
            "age            177\n",
            "sibsp            0\n",
            "parch            0\n",
            "fare             0\n",
            "embarked         2\n",
            "class            0\n",
            "who              0\n",
            "adult_male       0\n",
            "deck           688\n",
            "embark_town      2\n",
            "alive            0\n",
            "alone            0\n",
            "dtype: int64\n",
            "         survived      pclass         age       sibsp       parch        fare\n",
            "count  891.000000  891.000000  714.000000  891.000000  891.000000  891.000000\n",
            "mean     0.383838    2.308642   29.699118    0.523008    0.381594   32.204208\n",
            "std      0.486592    0.836071   14.526497    1.102743    0.806057   49.693429\n",
            "min      0.000000    1.000000    0.420000    0.000000    0.000000    0.000000\n",
            "25%      0.000000    2.000000   20.125000    0.000000    0.000000    7.910400\n",
            "50%      0.000000    3.000000   28.000000    0.000000    0.000000   14.454200\n",
            "75%      1.000000    3.000000   38.000000    1.000000    0.000000   31.000000\n",
            "max      1.000000    3.000000   80.000000    8.000000    6.000000  512.329200\n"
          ]
        }
      ]
    },
    {
      "cell_type": "markdown",
      "source": [
        "**Notion:**\n",
        "\n",
        "* info() provides a summary of the dataset, including column names, data types, * and non-null counts.\n",
        "\n",
        "* isnull().sum() helps identify missing values in each column.\n",
        "\n",
        "* describe() gives statistical details like mean, min, max, etc., for numerical columns."
      ],
      "metadata": {
        "id": "pvq2m1e6c6gY"
      }
    },
    {
      "cell_type": "markdown",
      "source": [
        "**Step 4: Handle Missing Values**\n",
        "\n",
        "Missing data can affect analysis, so we need to handle it."
      ],
      "metadata": {
        "id": "XPZkVO9gdBCn"
      }
    },
    {
      "cell_type": "code",
      "source": [
        "# Fill missing 'age' with the median value\n",
        "titanic['age'].fillna(titanic['age'].median(), inplace=True)\n",
        "\n",
        "# Fill missing 'embarked' with the most frequent value\n",
        "titanic['embarked'].fillna(titanic['embarked'].mode()[0], inplace=True)\n",
        "\n",
        "# Drop the 'deck' column as it has too many missing values\n",
        "titanic.drop(columns=['deck'], inplace=True)\n",
        "\n",
        "# Check if missing values are handled\n",
        "print(titanic.isnull().sum())"
      ],
      "metadata": {
        "colab": {
          "base_uri": "https://localhost:8080/"
        },
        "id": "nbzoDJGjc9uL",
        "outputId": "3f55bc71-08c3-410d-b86b-ab87ca0925e9"
      },
      "execution_count": 4,
      "outputs": [
        {
          "output_type": "stream",
          "name": "stdout",
          "text": [
            "survived       0\n",
            "pclass         0\n",
            "sex            0\n",
            "age            0\n",
            "sibsp          0\n",
            "parch          0\n",
            "fare           0\n",
            "embarked       0\n",
            "class          0\n",
            "who            0\n",
            "adult_male     0\n",
            "embark_town    2\n",
            "alive          0\n",
            "alone          0\n",
            "dtype: int64\n"
          ]
        },
        {
          "output_type": "stream",
          "name": "stderr",
          "text": [
            "<ipython-input-4-a7a1761abcb2>:2: FutureWarning: A value is trying to be set on a copy of a DataFrame or Series through chained assignment using an inplace method.\n",
            "The behavior will change in pandas 3.0. This inplace method will never work because the intermediate object on which we are setting values always behaves as a copy.\n",
            "\n",
            "For example, when doing 'df[col].method(value, inplace=True)', try using 'df.method({col: value}, inplace=True)' or df[col] = df[col].method(value) instead, to perform the operation inplace on the original object.\n",
            "\n",
            "\n",
            "  titanic['age'].fillna(titanic['age'].median(), inplace=True)\n",
            "<ipython-input-4-a7a1761abcb2>:5: FutureWarning: A value is trying to be set on a copy of a DataFrame or Series through chained assignment using an inplace method.\n",
            "The behavior will change in pandas 3.0. This inplace method will never work because the intermediate object on which we are setting values always behaves as a copy.\n",
            "\n",
            "For example, when doing 'df[col].method(value, inplace=True)', try using 'df.method({col: value}, inplace=True)' or df[col] = df[col].method(value) instead, to perform the operation inplace on the original object.\n",
            "\n",
            "\n",
            "  titanic['embarked'].fillna(titanic['embarked'].mode()[0], inplace=True)\n"
          ]
        }
      ]
    },
    {
      "cell_type": "markdown",
      "source": [
        "**Notion:**\n",
        "\n",
        "* For numerical columns like age, we fill missing values with the median.\n",
        "\n",
        "* For categorical columns like embarked, we use the mode (most frequent value).\n",
        "\n",
        "* Columns with too many missing values (e.g., deck) are dropped entirely."
      ],
      "metadata": {
        "id": "q5IbHElldPGv"
      }
    },
    {
      "cell_type": "markdown",
      "source": [
        "**Step 5: Feature Engineering**\n",
        "\n",
        "Create new features or modify existing ones for better analysis."
      ],
      "metadata": {
        "id": "JdlWBHbtdUX_"
      }
    },
    {
      "cell_type": "code",
      "source": [
        "# Create a new column 'family_size' by combining 'sibsp' and 'parch'\n",
        "titanic['family_size'] = titanic['sibsp'] + titanic['parch']\n",
        "\n",
        "# Convert 'sex' to numerical values (0 for male, 1 for female)\n",
        "titanic['sex'] = titanic['sex'].map({'male': 0, 'female': 1})\n",
        "\n",
        "# Display the updated dataset\n",
        "print(titanic.head())"
      ],
      "metadata": {
        "colab": {
          "base_uri": "https://localhost:8080/"
        },
        "id": "jHjToO0FdQ36",
        "outputId": "bc6a44d9-6f12-493d-eda9-c7ef9f58af6e"
      },
      "execution_count": 5,
      "outputs": [
        {
          "output_type": "stream",
          "name": "stdout",
          "text": [
            "   survived  pclass  sex   age  sibsp  parch     fare embarked  class    who  \\\n",
            "0         0       3    0  22.0      1      0   7.2500        S  Third    man   \n",
            "1         1       1    1  38.0      1      0  71.2833        C  First  woman   \n",
            "2         1       3    1  26.0      0      0   7.9250        S  Third  woman   \n",
            "3         1       1    1  35.0      1      0  53.1000        S  First  woman   \n",
            "4         0       3    0  35.0      0      0   8.0500        S  Third    man   \n",
            "\n",
            "   adult_male  embark_town alive  alone  family_size  \n",
            "0        True  Southampton    no  False            1  \n",
            "1       False    Cherbourg   yes  False            1  \n",
            "2       False  Southampton   yes   True            0  \n",
            "3       False  Southampton   yes  False            1  \n",
            "4        True  Southampton    no   True            0  \n"
          ]
        }
      ]
    },
    {
      "cell_type": "markdown",
      "source": [
        "**Notion:**\n",
        "\n",
        "* family_size combines siblings/spouses (sibsp) and parents/children (parch) to represent the total family size.\n",
        "\n",
        "* Converting sex to numerical values makes it easier to use in machine learning models."
      ],
      "metadata": {
        "id": "Z8pYIGRBdtn_"
      }
    },
    {
      "cell_type": "markdown",
      "source": [
        "**Step 6: Remove Unnecessary Columns**\n",
        "\n",
        "Drop columns that are not useful for analysis."
      ],
      "metadata": {
        "id": "XFs0rpqSd0BO"
      }
    },
    {
      "cell_type": "code",
      "source": [
        "# Drop columns like 'alive', 'alone', and 'class' as they are redundant or less useful\n",
        "titanic.drop(columns=['alive', 'alone', 'class'], inplace=True)\n",
        "\n",
        "# Display the final dataset\n",
        "print(titanic.head())"
      ],
      "metadata": {
        "colab": {
          "base_uri": "https://localhost:8080/"
        },
        "id": "7vxWvhQjdvXJ",
        "outputId": "093b952e-7741-4488-cae2-40106eceb5cb"
      },
      "execution_count": 6,
      "outputs": [
        {
          "output_type": "stream",
          "name": "stdout",
          "text": [
            "   survived  pclass  sex   age  sibsp  parch     fare embarked    who  \\\n",
            "0         0       3    0  22.0      1      0   7.2500        S    man   \n",
            "1         1       1    1  38.0      1      0  71.2833        C  woman   \n",
            "2         1       3    1  26.0      0      0   7.9250        S  woman   \n",
            "3         1       1    1  35.0      1      0  53.1000        S  woman   \n",
            "4         0       3    0  35.0      0      0   8.0500        S    man   \n",
            "\n",
            "   adult_male  embark_town  family_size  \n",
            "0        True  Southampton            1  \n",
            "1       False    Cherbourg            1  \n",
            "2       False  Southampton            0  \n",
            "3       False  Southampton            1  \n",
            "4        True  Southampton            0  \n"
          ]
        }
      ]
    },
    {
      "cell_type": "markdown",
      "source": [
        "**Notion:**\n",
        "\n",
        "* Columns like alive are redundant because survived already provides the same information.\n",
        "\n",
        "* alone can be derived from family_size, so it’s not needed."
      ],
      "metadata": {
        "id": "ChAWiDQxd7qV"
      }
    },
    {
      "cell_type": "markdown",
      "source": [
        "**Step 7: Save the Cleaned Dataset**\n",
        "\n",
        "Save the cleaned dataset for future use."
      ],
      "metadata": {
        "id": "FHt921zGeETF"
      }
    },
    {
      "cell_type": "code",
      "source": [
        "# Save the cleaned dataset to a CSV file\n",
        "titanic.to_csv('cleaned_titanic.csv', index=False)"
      ],
      "metadata": {
        "id": "6A4pxb-nd-qJ"
      },
      "execution_count": 7,
      "outputs": []
    },
    {
      "cell_type": "markdown",
      "source": [
        "**Notion:**\n",
        "\n",
        "Saving the cleaned dataset ensures you don’t have to repeat the wrangling process every time."
      ],
      "metadata": {
        "id": "eXrPQhfkeLy9"
      }
    },
    {
      "cell_type": "markdown",
      "source": [
        "**Conclusion:**\n",
        "\n",
        "In this project, we performed data wrangling on the Titanic dataset using Seaborn and Pandas. We handled missing values, created new features, removed unnecessary columns, and saved the cleaned dataset. The dataset is now ready for further analysis or machine learning tasks. Data wrangling is a crucial step in any data science project, as it ensures the data is clean, structured, and meaningful."
      ],
      "metadata": {
        "id": "3GDNusQSeQcV"
      }
    },
    {
      "cell_type": "markdown",
      "source": [
        "**Final Thoughts:**\n",
        "\n",
        "* Data wrangling can be time-consuming but is essential for accurate analysis.\n",
        "\n",
        "* Always explore the dataset thoroughly before making any changes.\n",
        "\n",
        "* Feature engineering can significantly improve the quality of your analysis or\n",
        " models.\n",
        "\n",
        "* By following these steps, you can confidently wrangle any dataset and      prepare  it for deeper insights!"
      ],
      "metadata": {
        "id": "RceTVlvseVeF"
      }
    },
    {
      "cell_type": "code",
      "source": [],
      "metadata": {
        "id": "B-LuFM4ieN3Y"
      },
      "execution_count": null,
      "outputs": []
    }
  ]
}